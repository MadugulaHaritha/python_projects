{
 "cells": [
  {
   "cell_type": "code",
   "execution_count": 146,
   "id": "d40ae2e2-cff1-4358-95dc-72f3827ba527",
   "metadata": {},
   "outputs": [
    {
     "name": "stdout",
     "output_type": "stream",
     "text": [
      "Restaurent Name : Family RESTUARENT\n",
      "Adress : HITECH CITY\n"
     ]
    },
    {
     "name": "stdin",
     "output_type": "stream",
     "text": [
      "Enter your item number:  1\n"
     ]
    },
    {
     "name": "stdout",
     "output_type": "stream",
     "text": [
      "Item is available\n"
     ]
    },
    {
     "name": "stdin",
     "output_type": "stream",
     "text": [
      "Enter your quantity: 2\n"
     ]
    },
    {
     "name": "stdout",
     "output_type": "stream",
     "text": [
      "Ordered item : Chicken Biryani\n",
      "Item price: 250\n",
      "Total price is: 500\n",
      "Total price with GST: 512.5\n",
      "Do u want to add other item (type y or n):\n"
     ]
    },
    {
     "name": "stdin",
     "output_type": "stream",
     "text": [
      "Enter y or n: y\n",
      "Enter your item number:  7\n"
     ]
    },
    {
     "name": "stdout",
     "output_type": "stream",
     "text": [
      "Item is available\n"
     ]
    },
    {
     "name": "stdin",
     "output_type": "stream",
     "text": [
      "Enter your quantity: 2\n"
     ]
    },
    {
     "name": "stdout",
     "output_type": "stream",
     "text": [
      "Ordered item : Water Bottels and Drinks\n",
      "Item price: 20\n",
      "Total price is: 40\n",
      "Total price with GST: 553.5\n",
      "Do u want to add other item (type y or n):\n"
     ]
    },
    {
     "name": "stdin",
     "output_type": "stream",
     "text": [
      "Enter y or n: n\n"
     ]
    },
    {
     "name": "stdout",
     "output_type": "stream",
     "text": [
      "------Thanks for Ordering--------\n"
     ]
    }
   ],
   "source": [
    "print(\"Restaurent Name : Family RESTUARENT\")\n",
    "print(\"Adress : HITECH CITY\")\n",
    "dict1={1:\"Chicken Biryani\",\n",
    "2:\"Mutton Biryani\",\n",
    "3:\"Paneer Tikka\",\n",
    "4:\"Veg Biryani\",\n",
    "5:\"Fish Biryani\",\n",
    "6:\"Prawns Biryani\",\n",
    "7:\"Water Bottels and Drinks\"}\n",
    "prices={1:250,2:300,3:180,4:200,5:250,6:350,7:20}\n",
    "item=int(input(\"Enter your item number: \"))\n",
    "if item in dict1:\n",
    "    print(\"Item is available\")\n",
    "    quantity=int(input(\"Enter your quantity:\"))\n",
    "else:\n",
    "    print(\"Item not available\")\n",
    "tprice=0\n",
    "for i in dict1:\n",
    "   \n",
    "    if item==i:\n",
    "        print(f\"Ordered item : {dict1[i]}\")\n",
    "        print(f\"Item price: {prices[i]}\")\n",
    "        print(f\"Total price is: {prices[i] * quantity}\")\n",
    "        gst=(prices[i]*5)/100\n",
    "        tprice+=prices[i] * quantity+gst\n",
    "        print(f\"Total price with GST: {tprice}\")\n",
    "        print(\"Do u want to add other item (type y or n):\")\n",
    "        x=input(\"Enter y or n:\")\n",
    "        if 'y' in x:\n",
    "            item=int(input(\"Enter your item number: \"))\n",
    "            if item in dict1:\n",
    "                print(\"Item is available\")\n",
    "                quantity=int(input(\"Enter your quantity:\"))\n",
    "                if item==i:\n",
    "                    print(f\"Ordered item : {dict1[i]}\")\n",
    "                    print(f\"Item price: {prices[i]}\")\n",
    "                    print(f\"Total price is: {prices[i] * quantity}\")\n",
    "                    gst=(prices[i]*5)/100\n",
    "                    tprice+=prices[i] * quantity+gst\n",
    "                    print(f\"Total price with GST: {tprice}\") \n",
    "            else:\n",
    "                print(\"Item not available\")\n",
    "                                                   \n",
    "        elif 'n' in x:\n",
    "            print(\"------Thanks for Ordering--------\")\n",
    "            \n"
   ]
  },
  {
   "cell_type": "code",
   "execution_count": null,
   "id": "2db499ec-d9dc-4448-9854-ba0b32fe2924",
   "metadata": {},
   "outputs": [],
   "source": []
  }
 ],
 "metadata": {
  "kernelspec": {
   "display_name": "Python 3 (ipykernel)",
   "language": "python",
   "name": "python3"
  },
  "language_info": {
   "codemirror_mode": {
    "name": "ipython",
    "version": 3
   },
   "file_extension": ".py",
   "mimetype": "text/x-python",
   "name": "python",
   "nbconvert_exporter": "python",
   "pygments_lexer": "ipython3",
   "version": "3.11.7"
  }
 },
 "nbformat": 4,
 "nbformat_minor": 5
}
