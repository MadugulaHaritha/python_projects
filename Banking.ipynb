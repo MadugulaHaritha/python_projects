{
 "cells": [
  {
   "cell_type": "code",
   "execution_count": 3,
   "id": "7a9609d1-9892-467d-9dd2-56faef9b8923",
   "metadata": {},
   "outputs": [
    {
     "name": "stdout",
     "output_type": "stream",
     "text": [
      "BANK NAME: -----Vamsi International Bank-----\n",
      "Branch Name: Gachibowli\n",
      "IFSC Code: UBIN0535125\n"
     ]
    },
    {
     "name": "stdin",
     "output_type": "stream",
     "text": [
      "Enter a word('creation'/'credit'/'debit'): credit\n"
     ]
    },
    {
     "name": "stdout",
     "output_type": "stream",
     "text": [
      "Balance amount: 1000\n"
     ]
    },
    {
     "name": "stdin",
     "output_type": "stream",
     "text": [
      "Enter your amount:  600\n"
     ]
    },
    {
     "name": "stdout",
     "output_type": "stream",
     "text": [
      "Total amount: 1600\n"
     ]
    }
   ],
   "source": [
    "print(\"BANK NAME: -----Vamsi International Bank-----\")\n",
    "print(\"Branch Name: Gachibowli\")\n",
    "print(\"IFSC Code: UBIN0535125\")\n",
    "amount = 1000\n",
    "\n",
    "\n",
    "class creation:\n",
    "    def __init__(self):\n",
    "        print(\"Account Creation\")\n",
    "        name = input(\"Enter your name: \")\n",
    "        phoneno = input(\"Enter your Mobile number (10 digits): \")\n",
    "        if len(phoneno) == 10:\n",
    "            print(phoneno)\n",
    "        else:\n",
    "            print(\"Enter correct number\")\n",
    "            phoneno = input(\"Enter your Mobile number (10 digits): \")\n",
    "            print(f\"Balance amount: {amount}\")\n",
    "    def credit(self):\n",
    "        global amount\n",
    "        print(f\"Balance amount: {amount}\")\n",
    "        add_amount = int(input(\"Enter your amount: \"))\n",
    "        amount += add_amount\n",
    "        print(f\"Total amount: {amount}\")\n",
    "          \n",
    "        \n",
    "    def debit(self):\n",
    "        global amount\n",
    "        debit_amount = int(input(\"Enter your amount: \"))\n",
    "        if amount > debit_amount:\n",
    "            amount -= debit_amount\n",
    "            print(f\"Remaining balance: {amount}\")\n",
    "        else:\n",
    "            print(\"Insufficient balance\")\n",
    "\n",
    "# Test your functions\n",
    "\n",
    "x=input(\"Enter a word('creation'/'credit'/'debit'):\")\n",
    "if x=='creation':\n",
    "    c1=creation()\n",
    "elif x=='credit':\n",
    "    c1.credit()\n",
    "elif x=='debit':\n",
    "    c1.debit()\n",
    "else:\n",
    "    print(\"enter a valid word\")\n"
   ]
  },
  {
   "cell_type": "code",
   "execution_count": null,
   "id": "73a20596-bb3e-4739-90b1-98dc74a00f54",
   "metadata": {},
   "outputs": [],
   "source": []
  }
 ],
 "metadata": {
  "kernelspec": {
   "display_name": "Python 3 (ipykernel)",
   "language": "python",
   "name": "python3"
  },
  "language_info": {
   "codemirror_mode": {
    "name": "ipython",
    "version": 3
   },
   "file_extension": ".py",
   "mimetype": "text/x-python",
   "name": "python",
   "nbconvert_exporter": "python",
   "pygments_lexer": "ipython3",
   "version": "3.11.7"
  }
 },
 "nbformat": 4,
 "nbformat_minor": 5
}
