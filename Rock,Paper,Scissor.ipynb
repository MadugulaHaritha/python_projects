{
 "cells": [
  {
   "cell_type": "code",
   "execution_count": 1,
   "id": "0037ddd9-c49f-44d8-b600-b9432413f25c",
   "metadata": {},
   "outputs": [
    {
     "name": "stdin",
     "output_type": "stream",
     "text": [
      "Enter your choice (rock,paper,scissor): paper\n"
     ]
    },
    {
     "name": "stdout",
     "output_type": "stream",
     "text": [
      "computer choice: paper\n",
      "Tie\n"
     ]
    }
   ],
   "source": [
    "import random\n",
    "\n",
    "word=input(\"Enter your choice (rock,paper,scissor):\")\n",
    "computer=random.choice(['rock', 'paper', 'scissor'])\n",
    "print(f\"computer choice: {computer}\")\n",
    "if (word=='rock' and computer=='paper') or (word=='paper' and computer=='rock') or (word=='scissor' and computer=='paper'):\n",
    "    print(\"you won\")\n",
    "elif word== computer:\n",
    "    print(\"Tie\")\n",
    "else:\n",
    "    print(\"computer wins\")\n",
    "\n"
   ]
  },
  {
   "cell_type": "code",
   "execution_count": null,
   "id": "2b9e7ad4-7ba8-4944-b55b-b467cc15862c",
   "metadata": {},
   "outputs": [],
   "source": []
  }
 ],
 "metadata": {
  "kernelspec": {
   "display_name": "Python 3 (ipykernel)",
   "language": "python",
   "name": "python3"
  },
  "language_info": {
   "codemirror_mode": {
    "name": "ipython",
    "version": 3
   },
   "file_extension": ".py",
   "mimetype": "text/x-python",
   "name": "python",
   "nbconvert_exporter": "python",
   "pygments_lexer": "ipython3",
   "version": "3.11.7"
  }
 },
 "nbformat": 4,
 "nbformat_minor": 5
}
